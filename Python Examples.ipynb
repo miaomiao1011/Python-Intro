{
 "cells": [
  {
   "cell_type": "markdown",
   "metadata": {},
   "source": [
    "## Data manipulation (combining data in multiple files)\n"
   ]
  },
  {
   "cell_type": "code",
   "execution_count": null,
   "metadata": {},
   "outputs": [],
   "source": [
    "path = 'C:/Users/datsci/Desktop/Python/Examples/*.csv'\n",
    "\n",
    "import pandas as pd\n",
    "import glob\n",
    "results = pd.DataFrame()\n",
    "for file in glob.glob(path):\n",
    "    result = pd.read_csv(file,index_col=0)\n",
    "    results = results.append(result)\n",
    "print(results.shape)\n",
    "results.to_csv('C:/Users/datsci/Desktop/Python/Examples/r.csv',header=True)"
   ]
  },
  {
   "cell_type": "code",
   "execution_count": 9,
   "metadata": {},
   "outputs": [
    {
     "name": "stdout",
     "output_type": "stream",
     "text": [
      "Salary\n",
      "4300\n",
      "\n",
      "Salary\n",
      "4000\n",
      "\n",
      "Salary\n",
      "6000\n",
      "\n"
     ]
    },
    {
     "name": "stderr",
     "output_type": "stream",
     "text": [
      "C:\\Users\\mr66\\AppData\\Local\\Continuum\\anaconda3\\lib\\site-packages\\ipykernel_launcher.py:2: DeprecationWarning: Call to deprecated function get_sheet_by_name (Use wb[sheetname]).\n",
      "  \n",
      "C:\\Users\\mr66\\AppData\\Local\\Continuum\\anaconda3\\lib\\site-packages\\ipykernel_launcher.py:2: DeprecationWarning: Call to deprecated function get_sheet_by_name (Use wb[sheetname]).\n",
      "  \n",
      "C:\\Users\\mr66\\AppData\\Local\\Continuum\\anaconda3\\lib\\site-packages\\ipykernel_launcher.py:2: DeprecationWarning: Call to deprecated function get_sheet_by_name (Use wb[sheetname]).\n",
      "  \n"
     ]
    }
   ],
   "source": [
    "from openpyxl import load_workbook\n",
    "filepath=\"Expense.xlsx\"\n",
    "wb=load_workbook(filepath)\n",
    "\n",
    "for i in range(1, 4):\n",
    "    sheet = wb.get_sheet_by_name(str(i))\n",
    "    print(sheet['C3'].value)\n",
    "    print(str(sheet['D3'].value))\n",
    "    print()"
   ]
  },
  {
   "cell_type": "markdown",
   "metadata": {},
   "source": [
    "## Data Visualization"
   ]
  },
  {
   "cell_type": "code",
   "execution_count": 5,
   "metadata": {},
   "outputs": [
    {
     "data": {
      "text/plain": [
       "<matplotlib.axes._subplots.AxesSubplot at 0xaf82518>"
      ]
     },
     "execution_count": 5,
     "metadata": {},
     "output_type": "execute_result"
    },
    {
     "data": {
      "image/png": "[encoded data removed]",
      "text/plain": [
       "<Figure size 432x288 with 1 Axes>"
      ]
     },
     "metadata": {},
     "output_type": "display_data"
    }
   ],
   "source": [
    "import seaborn as sns \n",
    "\n",
    "\n",
    "df = sns.load_dataset('iris') \n",
    "\n",
    "\n",
    "my_pal = {\"versicolor\": \"g\", \"setosa\": \"b\", \"virginica\":\"m\"} \n",
    "\n",
    "\n",
    "sns.boxplot( x=df[\"species\"], y=df[\"sepal_width\"], palette=my_pal) \n",
    "\n",
    "#sns.boxplot.show() "
   ]
  },
  {
   "cell_type": "markdown",
   "metadata": {},
   "source": [
    "## Web Scraping -- Car Sales on Houston Craiglist"
   ]
  },
  {
   "cell_type": "code",
   "execution_count": 6,
   "metadata": {},
   "outputs": [
    {
     "name": "stdout",
     "output_type": "stream",
     "text": [
      "Hyundai Santafe Limited\n",
      "2003 Pontiac Grand AM\n",
      "2012 Infiniti QX56  SUV 7-passenger - Infiniti Black Obsidian\n",
      "2011 Ford F-250 Lariat SKU:BEC15615 Crew Cab\n",
      "TOYOTA COROLLA\n",
      "CHEVY MALIBU\n",
      "2000 Chevy Malibu 1 Owner\n",
      "2008 Toyota FJ Cruiser 4dr SUV * Very Clean * AutoCheck * Warranty\n",
      "2011 Dodge Grand Caravan Mainstreet - BAD CREDIT OK!\n",
      "2011 Dodge Grand Caravan EXPRESS - mini-van\n",
      "FORD ESCAPE\n",
      "ACURA TL\n",
      "2015 Lexus IS 250 - BAD CREDIT OK!\n",
      "CHEVY MONTE CARLO\n",
      "2007 INFINITI M35  sedan Base (Black Obsidian)\n",
      "CHEVY MONTE CARLO\n",
      "Lexus GS350 2007\n",
      "Honda Civic 2017 Black\n",
      "2014 Jetta  39k Miles\n",
      "2011 Mercedes GLK350\n",
      "2005 DODGE GRAND CARAVAN\n",
      "2011 Acura MDX Tech Pkg SKU:BH535788 SUV\n",
      "2003 Nissan Frontier\n",
      "2007 Chevy Silverado\n",
      "2008 Chrysler town & country limited\n",
      "2006 Mazda RX-8 parts car\n",
      "1993 Ford Bronco 93 XLT 4X4\n",
      "2005 king ranch expedition\n",
      "Cadillac escalade\n",
      "2014 NISSAN MURANO SL LEATHER BACKUP CAMERA *CLEAR TITLE *\n",
      "2005 GMC\n",
      "2004 Mazda 3 Hatchback Clean Texas Title in hand\n",
      "2014 Honda Accord LX\n",
      "2000 Toyota Corolla VE\n",
      "2002 Chevrolet Malibu\n",
      "2003 acura tl\n",
      "Jeep Grand Cherokee\n",
      "2003 DODGE RAM 1500 CLEAN TITLE NO ACCIDENT COLD A/C BEST DEAL EVER\n",
      "2017 Toyota Corolla 6speed for Sale\n",
      "2009 Nissan quest\n",
      "2011 Hyundai Santa Fe  Limited Limited 4dr SUV (V6)\n",
      "2007 Ford 500\n",
      "2006 Chevy Impala Lt with Police Wheels\n",
      "2006 Chevy Impala Lt with Police Wheels\n",
      "2011 Toyota Corolla S SKU:BC669572 Sedan\n",
      "2017 Ford F-150 F150 XLT - BAD CREDIT OK!\n",
      "No Credit Check In House Finance bad no Credit ok! Inhouse Financing\n",
      "2009 BMW 535 CLEAN CAR CLEAN CARFAX\n",
      "2005 HONDA CRV CLEAN SUV\n",
      "1999 TOYOTA 4RUNNER CLEAN SUV\n",
      "2007 Ford Explorer XLT - Clean Title - 93K Miles\n",
      "2004 ACURA MDX CLEAN SUV\n",
      "2017 Ford Focus ST - Clean Title - 24K Miles\n",
      "2015 Jeep Patriot Altitude 4WD - Clean Title - 80K\n",
      "2006 Ford F-250 Super Duty Lariat 4dr Crew Cab SB\n",
      "2011 toyota corolla sport sharp\n",
      "2005 grand marquis low miles\n",
      "1957 Chevy Stepside truck\n",
      "2007 Ford five hundred\n",
      "2009 Chevy hhr\n",
      "2007 Ford expedition eddie baurer\n",
      "2015 Jeep Grand Cherokee Altitude suv Bright White Clearcoat\n",
      "2017 FORD F350 SUPER DUTY DULLY 4X4 DIESEL\n",
      "03 Chevrolet Silverado 1500 LT\n",
      "2017 HONDA ACCORD 4-DOOR SEDAN EX-L V6 LEATHER * FULLY LOADED*\n",
      "2013 Infiniti JX 35\n",
      "2009 GMC Acadia\n",
      "05 trailblazer\n",
      "2010 Ford F-150 XLT SKU:AFC71112 SuperCrew Cab\n",
      "2006 Hyundai Tiburon\n",
      "Lincoln Town Car Limo\n",
      "2012 Nissan Altima\n",
      "2009 NISSAN MURANO SL FULLY EQUIPPED\n",
      "2001 Lexus LS 430\n",
      "2016 Mazda 3 hatchback\n",
      "2008 gmc Yukon denali...\n",
      "2013 Volkswagen Golf TDI W/Sunroof & Nav\n",
      "2007 Ford F-250 Lariat Turbo Diesel\n",
      "2011 Ford Edge - One Owner\n",
      "2000 Nissan Frontier OBO Mejor Oferta\n",
      "2000 Nissan Pathfinder, runs great, cold AC, clean title, CASH PRICE!\n",
      "1972 BUICK GSX Tribute,  383 Stroker,  GREAT CAR,  NEW ENGINE,  FAST!!\n",
      "2008 Toyota Tundra LTD SKU:8X051840 Crew Max\n",
      "2006 Dodge Ram 1500 5.7L Hemi Mega Cab\n",
      "DODGE CHARGER 2006 LEATHER,SUNROOF,\n",
      "2005 Dodge Ram  3500 dually diesel manual\n",
      "1995 Dodge 2500 Custom Built 4x4\n",
      "Great Work Truck\n",
      "CHEVROLET BLAZER LOW MILES\n",
      "2016 Ford Escape - One Owner\n",
      "98 Honda accord lx\n",
      "2015 GMC Sierra 1500  SLT - truck\n",
      "2003 CHEVROLET SUBURBAN LT\n",
      "2007 Volkswagen Jetta\n",
      "2013 Ford F150\n",
      "2008 Chevrolet Silverado\n",
      "2006 Ford E-150 XLT SKU:6DA20194 Regular\n",
      "Toyota camry 2013 for sale\n",
      "2016 Toyota 4Runner Limited - SUV\n",
      "2008 kia sorento LX\n",
      "Clean 2013 Honda Fit Low miles\n",
      "2008 Mazda CX 7 with moon roof\n",
      "2005 Chevrolet Impala, chrome wheels, leather, runs excellent, CASH!\n",
      "💜BAD CREDIT OK+*NO CREDIT OK*+REPOS OK+*WE FINANCE*+U WORK*+*+*\n",
      "2003 Nissan altima 2.5S - 84k miles/ 5 speed standard transmission\n",
      "2009 Audi TTS 2.0T quattro AWD Premium 2dr Coupe -- WE FINANCE - BU\n",
      "2004 Ford Mustang\n",
      "2009 BMW 328I - One Owner - Low Mileage\n",
      "2006 Ford F-150 F150 F 150 XLT 4dr SuperCrew Styleside 6.5 ft. LB -\n",
      "2007 Dodge Grand Caravan, 112K miles, stow-n-go, clean title, CASH!\n",
      "1994 Toyota Camry obo 140k miles\n",
      "2013 Chevy Cruze\n",
      "2004 HYUNDAI SONATA V6 CLEAN RUNS GREAT LOW DOWN NO CREDIT CHECK!\n",
      "2015 HONDA CR-V EX , *CLEAR TITLE * 1-OWNER, REARVIEW CAMERA ;SUNROOF\n",
      "2003 Honda Odyssey, leather, cold AC, clean title, rides great, CASH!\n",
      "2013 Toyota Tundra Double cap\n",
      "2007 Kia rondo LX\n",
      "03  chevy monte carlo\n",
      "2008 INFINITI QX56\n",
      "Chevrolet Tahoe 2002\n"
     ]
    }
   ],
   "source": [
    "from bs4 import BeautifulSoup\n",
    "import requests\n",
    " \n",
    "url = \"https://houston.craigslist.org/search/cta\"\n",
    " \n",
    "# Getting the webpage, creating a Response object.\n",
    "response = requests.get(url)\n",
    " \n",
    "# Extracting the source code of the page.\n",
    "data = response.text\n",
    " \n",
    "# Passing the source code to Beautiful Soup to create a BeautifulSoup object for it.\n",
    "soup = BeautifulSoup(data, 'lxml')\n",
    " \n",
    "# Extracting all the <a> tags whose class name is 'result-title' into a list.\n",
    "titles = soup.findAll('a', {'class': 'result-title'})\n",
    "\n",
    " \n",
    "# Extracting text from the the <a> tags, i.e. class titles.\n",
    "for title in titles:\n",
    "    print (title.text)\n"
   ]
  },
  {
   "cell_type": "code",
   "execution_count": 10,
   "metadata": {
    "scrolled": true
   },
   "outputs": [
    {
     "data": {
      "text/plain": [
       "<matplotlib.axes._subplots.AxesSubplot at 0x54f7978>"
      ]
     },
     "execution_count": 10,
     "metadata": {},
     "output_type": "execute_result"
    },
    {
     "data": {
      "image/png": "[encoded data removed]",
      "text/plain": [
       "<Figure size 432x288 with 1 Axes>"
      ]
     },
     "metadata": {},
     "output_type": "display_data"
    }
   ],
   "source": [
    "import seaborn as sns \n",
    "import pandas as pd\n",
    "df = pd.read_csv('WeightHeightChart.csv')\n",
    "# plot \n",
    "sns.regplot(x=df[\"weight\"], y=df[\"height\"], line_kws={\"color\":\"r\",\"lw\":2}) \n",
    "\n"
   ]
  },
  {
   "cell_type": "code",
   "execution_count": 4,
   "metadata": {},
   "outputs": [],
   "source": []
  }
 ],
 "metadata": {
  "kernelspec": {
   "display_name": "Python 3",
   "language": "python",
   "name": "python3"
  },
  "language_info": {
   "codemirror_mode": {
    "name": "ipython",
    "version": 3
   },
   "file_extension": ".py",
   "mimetype": "text/x-python",
   "name": "python",
   "nbconvert_exporter": "python",
   "pygments_lexer": "ipython3",
   "version": "3.6.5"
  }
 },
 "nbformat": 4,
 "nbformat_minor": 2
}
